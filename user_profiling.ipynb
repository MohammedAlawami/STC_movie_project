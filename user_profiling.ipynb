{
 "cells": [
  {
   "cell_type": "code",
   "execution_count": 1,
   "metadata": {},
   "outputs": [],
   "source": [
    "import numpy as np\n",
    "import pandas as pd\n",
    "import matplotlib.pyplot as plt \n",
    "import seaborn as sns \n",
    "from sklearn.preprocessing import scale, robust_scale"
   ]
  },
  {
   "cell_type": "code",
   "execution_count": 2,
   "metadata": {},
   "outputs": [
    {
     "name": "stdout",
     "output_type": "stream",
     "text": [
      "<class 'pandas.core.frame.DataFrame'>\n",
      "RangeIndex: 3926174 entries, 0 to 3926173\n",
      "Data columns (total 19 columns):\n",
      "date_               datetime64[ns]\n",
      "user_id_maped       uint16\n",
      "program_id          object\n",
      "program_name        object\n",
      "original_name       object\n",
      "program_class       category\n",
      "season              uint8\n",
      "episode             uint16\n",
      "program_desc        object\n",
      "program_genre       category\n",
      "series_title        bool\n",
      "hd                  bool\n",
      "title               object\n",
      "duration_minutes    float32\n",
      "total_runtime       float32\n",
      "user_rating         float32\n",
      "avg_rating          float32\n",
      "content_rating      category\n",
      "age_group           category\n",
      "dtypes: bool(2), category(4), datetime64[ns](1), float32(4), object(5), uint16(2), uint8(1)\n",
      "memory usage: 280.8+ MB\n"
     ]
    }
   ],
   "source": [
    "df = pd.read_csv(\n",
    "            'final_STC_dataset2.csv',\n",
    "            parse_dates=['date_'],\n",
    "            dtype={ \n",
    "                'user_id_maped': np.uint16, # Unsigned integer (0 to 65535)\n",
    "                'program_id': str,\n",
    "                'program_name': str,\n",
    "                'original_name': str,\n",
    "                'program_class': 'category',\n",
    "                'season': np.uint8, # Unsigned integer (0 to 255)\n",
    "                'episode': np.uint16, # Unsigned integer (0 to 65535)\n",
    "                'program_desc': str,\n",
    "                'program_genre': 'category',\n",
    "                'series_title': bool,\n",
    "                'hd': bool, \n",
    "                'title': str,\n",
    "                'duration_minutes': np.float32,\n",
    "                'total_runtime': np.float32,\n",
    "                'user_rating': np.float32,\n",
    "                'avg_rating': np.float32,\n",
    "                'content_rating': 'category',\n",
    "                'age_group': 'category'\n",
    "            })\n",
    "\n",
    "df.info()"
   ]
  },
  {
   "cell_type": "code",
   "execution_count": 3,
   "metadata": {},
   "outputs": [
    {
     "data": {
      "text/html": [
       "<div>\n",
       "<style scoped>\n",
       "    .dataframe tbody tr th:only-of-type {\n",
       "        vertical-align: middle;\n",
       "    }\n",
       "\n",
       "    .dataframe tbody tr th {\n",
       "        vertical-align: top;\n",
       "    }\n",
       "\n",
       "    .dataframe thead th {\n",
       "        text-align: right;\n",
       "    }\n",
       "</style>\n",
       "<table border=\"1\" class=\"dataframe\">\n",
       "  <thead>\n",
       "    <tr style=\"text-align: right;\">\n",
       "      <th></th>\n",
       "      <th>date_</th>\n",
       "      <th>user_id_maped</th>\n",
       "      <th>program_id</th>\n",
       "      <th>program_name</th>\n",
       "      <th>original_name</th>\n",
       "      <th>program_class</th>\n",
       "      <th>season</th>\n",
       "      <th>episode</th>\n",
       "      <th>program_desc</th>\n",
       "      <th>program_genre</th>\n",
       "      <th>series_title</th>\n",
       "      <th>hd</th>\n",
       "      <th>title</th>\n",
       "      <th>duration_minutes</th>\n",
       "      <th>total_runtime</th>\n",
       "      <th>user_rating</th>\n",
       "      <th>avg_rating</th>\n",
       "      <th>content_rating</th>\n",
       "      <th>age_group</th>\n",
       "    </tr>\n",
       "  </thead>\n",
       "  <tbody>\n",
       "    <tr>\n",
       "      <td>0</td>\n",
       "      <td>2017-08-16</td>\n",
       "      <td>6928</td>\n",
       "      <td>M0009670</td>\n",
       "      <td>The Boss Baby</td>\n",
       "      <td>The Boss Baby</td>\n",
       "      <td>MOVIE</td>\n",
       "      <td>0</td>\n",
       "      <td>0</td>\n",
       "      <td>Animation MovieThe Boss Baby (HD)</td>\n",
       "      <td>Animation</td>\n",
       "      <td>False</td>\n",
       "      <td>True</td>\n",
       "      <td>The Boss Baby</td>\n",
       "      <td>0.280000</td>\n",
       "      <td>96.940002</td>\n",
       "      <td>1.5</td>\n",
       "      <td>6.1</td>\n",
       "      <td>TV-Y</td>\n",
       "      <td>2-6</td>\n",
       "    </tr>\n",
       "    <tr>\n",
       "      <td>1</td>\n",
       "      <td>2017-05-27</td>\n",
       "      <td>26138</td>\n",
       "      <td>M0005792SD</td>\n",
       "      <td>100 Streets</td>\n",
       "      <td>100 Streets</td>\n",
       "      <td>MOVIE</td>\n",
       "      <td>0</td>\n",
       "      <td>0</td>\n",
       "      <td>Drama Movie100 Streets</td>\n",
       "      <td>Drama</td>\n",
       "      <td>False</td>\n",
       "      <td>False</td>\n",
       "      <td>100 Streets</td>\n",
       "      <td>0.670000</td>\n",
       "      <td>92.940002</td>\n",
       "      <td>1.5</td>\n",
       "      <td>6.2</td>\n",
       "      <td>TV-14</td>\n",
       "      <td>+14</td>\n",
       "    </tr>\n",
       "    <tr>\n",
       "      <td>2</td>\n",
       "      <td>2017-09-16</td>\n",
       "      <td>19082</td>\n",
       "      <td>S000805901001</td>\n",
       "      <td>Heroes Reborn Brave New World</td>\n",
       "      <td>Heroes Reborn</td>\n",
       "      <td>SERIES/EPISODES</td>\n",
       "      <td>1</td>\n",
       "      <td>1</td>\n",
       "      <td>Drama MovieBrave New World (HD)</td>\n",
       "      <td>Drama</td>\n",
       "      <td>False</td>\n",
       "      <td>False</td>\n",
       "      <td>Heroes Reborn</td>\n",
       "      <td>28.200001</td>\n",
       "      <td>60.000000</td>\n",
       "      <td>4.7</td>\n",
       "      <td>6.7</td>\n",
       "      <td>TV-14</td>\n",
       "      <td>+14</td>\n",
       "    </tr>\n",
       "    <tr>\n",
       "      <td>3</td>\n",
       "      <td>2017-05-21</td>\n",
       "      <td>7946</td>\n",
       "      <td>M0004410</td>\n",
       "      <td>Moana</td>\n",
       "      <td>Moana</td>\n",
       "      <td>MOVIE</td>\n",
       "      <td>0</td>\n",
       "      <td>0</td>\n",
       "      <td>Animation MovieMoana (HD)</td>\n",
       "      <td>Animation</td>\n",
       "      <td>False</td>\n",
       "      <td>True</td>\n",
       "      <td>Moana</td>\n",
       "      <td>0.280000</td>\n",
       "      <td>107.059998</td>\n",
       "      <td>1.5</td>\n",
       "      <td>7.3</td>\n",
       "      <td>PG</td>\n",
       "      <td>+8</td>\n",
       "    </tr>\n",
       "    <tr>\n",
       "      <td>4</td>\n",
       "      <td>2017-08-10</td>\n",
       "      <td>7418</td>\n",
       "      <td>M0005895</td>\n",
       "      <td>The Mermaid Princess</td>\n",
       "      <td>The Mermaid Princess</td>\n",
       "      <td>MOVIE</td>\n",
       "      <td>0</td>\n",
       "      <td>0</td>\n",
       "      <td>Animation MovieThe Mermaid Princess (HD)</td>\n",
       "      <td>Animation</td>\n",
       "      <td>False</td>\n",
       "      <td>True</td>\n",
       "      <td>The Mermaid Princess</td>\n",
       "      <td>0.130000</td>\n",
       "      <td>77.000000</td>\n",
       "      <td>1.5</td>\n",
       "      <td>4.4</td>\n",
       "      <td>PG</td>\n",
       "      <td>+8</td>\n",
       "    </tr>\n",
       "  </tbody>\n",
       "</table>\n",
       "</div>"
      ],
      "text/plain": [
       "       date_  user_id_maped     program_id                   program_name  \\\n",
       "0 2017-08-16           6928       M0009670                  The Boss Baby   \n",
       "1 2017-05-27          26138     M0005792SD                    100 Streets   \n",
       "2 2017-09-16          19082  S000805901001  Heroes Reborn Brave New World   \n",
       "3 2017-05-21           7946       M0004410                          Moana   \n",
       "4 2017-08-10           7418       M0005895           The Mermaid Princess   \n",
       "\n",
       "          original_name    program_class  season  episode  \\\n",
       "0         The Boss Baby            MOVIE       0        0   \n",
       "1           100 Streets            MOVIE       0        0   \n",
       "2         Heroes Reborn  SERIES/EPISODES       1        1   \n",
       "3                 Moana            MOVIE       0        0   \n",
       "4  The Mermaid Princess            MOVIE       0        0   \n",
       "\n",
       "                               program_desc program_genre  series_title  \\\n",
       "0         Animation MovieThe Boss Baby (HD)     Animation         False   \n",
       "1                    Drama Movie100 Streets         Drama         False   \n",
       "2           Drama MovieBrave New World (HD)         Drama         False   \n",
       "3                 Animation MovieMoana (HD)     Animation         False   \n",
       "4  Animation MovieThe Mermaid Princess (HD)     Animation         False   \n",
       "\n",
       "      hd                 title  duration_minutes  total_runtime  user_rating  \\\n",
       "0   True         The Boss Baby          0.280000      96.940002          1.5   \n",
       "1  False           100 Streets          0.670000      92.940002          1.5   \n",
       "2  False         Heroes Reborn         28.200001      60.000000          4.7   \n",
       "3   True                 Moana          0.280000     107.059998          1.5   \n",
       "4   True  The Mermaid Princess          0.130000      77.000000          1.5   \n",
       "\n",
       "   avg_rating content_rating age_group  \n",
       "0         6.1           TV-Y       2-6  \n",
       "1         6.2          TV-14       +14  \n",
       "2         6.7          TV-14       +14  \n",
       "3         7.3             PG        +8  \n",
       "4         4.4             PG        +8  "
      ]
     },
     "execution_count": 3,
     "metadata": {},
     "output_type": "execute_result"
    }
   ],
   "source": [
    "df.head()"
   ]
  },
  {
   "cell_type": "code",
   "execution_count": 4,
   "metadata": {},
   "outputs": [],
   "source": [
    "data = df"
   ]
  },
  {
   "cell_type": "code",
   "execution_count": 5,
   "metadata": {},
   "outputs": [],
   "source": [
    "cluster_df = df.filter(['age_group','program_genre'])"
   ]
  },
  {
   "cell_type": "code",
   "execution_count": 6,
   "metadata": {},
   "outputs": [
    {
     "data": {
      "text/html": [
       "<div>\n",
       "<style scoped>\n",
       "    .dataframe tbody tr th:only-of-type {\n",
       "        vertical-align: middle;\n",
       "    }\n",
       "\n",
       "    .dataframe tbody tr th {\n",
       "        vertical-align: top;\n",
       "    }\n",
       "\n",
       "    .dataframe thead th {\n",
       "        text-align: right;\n",
       "    }\n",
       "</style>\n",
       "<table border=\"1\" class=\"dataframe\">\n",
       "  <thead>\n",
       "    <tr style=\"text-align: right;\">\n",
       "      <th></th>\n",
       "      <th>age_group</th>\n",
       "      <th>program_genre</th>\n",
       "    </tr>\n",
       "  </thead>\n",
       "  <tbody>\n",
       "    <tr>\n",
       "      <td>0</td>\n",
       "      <td>2-6</td>\n",
       "      <td>Animation</td>\n",
       "    </tr>\n",
       "    <tr>\n",
       "      <td>1</td>\n",
       "      <td>+14</td>\n",
       "      <td>Drama</td>\n",
       "    </tr>\n",
       "    <tr>\n",
       "      <td>2</td>\n",
       "      <td>+14</td>\n",
       "      <td>Drama</td>\n",
       "    </tr>\n",
       "    <tr>\n",
       "      <td>3</td>\n",
       "      <td>+8</td>\n",
       "      <td>Animation</td>\n",
       "    </tr>\n",
       "    <tr>\n",
       "      <td>4</td>\n",
       "      <td>+8</td>\n",
       "      <td>Animation</td>\n",
       "    </tr>\n",
       "  </tbody>\n",
       "</table>\n",
       "</div>"
      ],
      "text/plain": [
       "  age_group program_genre\n",
       "0       2-6     Animation\n",
       "1       +14         Drama\n",
       "2       +14         Drama\n",
       "3        +8     Animation\n",
       "4        +8     Animation"
      ]
     },
     "execution_count": 6,
     "metadata": {},
     "output_type": "execute_result"
    }
   ],
   "source": [
    "cluster_df.head()"
   ]
  },
  {
   "cell_type": "code",
   "execution_count": 7,
   "metadata": {},
   "outputs": [],
   "source": [
    "##Building the Model\n",
    "from sklearn.cluster import KMeans\n",
    "wcss=[]"
   ]
  },
  {
   "cell_type": "code",
   "execution_count": 8,
   "metadata": {},
   "outputs": [
    {
     "name": "stdout",
     "output_type": "stream",
     "text": [
      "Shape: (3926174, 19)\n"
     ]
    }
   ],
   "source": [
    "test_df = cluster_df\n",
    "# Get dummies\n",
    "cluster_df = pd.get_dummies(test_df, prefix_sep='_', drop_first=True)\n",
    "cluster_df.head()\n",
    "print('Shape:', cluster_df.shape)"
   ]
  },
  {
   "cell_type": "code",
   "execution_count": 9,
   "metadata": {},
   "outputs": [
    {
     "data": {
      "text/html": [
       "<div>\n",
       "<style scoped>\n",
       "    .dataframe tbody tr th:only-of-type {\n",
       "        vertical-align: middle;\n",
       "    }\n",
       "\n",
       "    .dataframe tbody tr th {\n",
       "        vertical-align: top;\n",
       "    }\n",
       "\n",
       "    .dataframe thead th {\n",
       "        text-align: right;\n",
       "    }\n",
       "</style>\n",
       "<table border=\"1\" class=\"dataframe\">\n",
       "  <thead>\n",
       "    <tr style=\"text-align: right;\">\n",
       "      <th></th>\n",
       "      <th>age_group_+17</th>\n",
       "      <th>age_group_+7</th>\n",
       "      <th>age_group_+8</th>\n",
       "      <th>age_group_2-6</th>\n",
       "      <th>age_group_All ages</th>\n",
       "      <th>age_group_Not Rated</th>\n",
       "      <th>program_genre_Adventure</th>\n",
       "      <th>program_genre_Animation</th>\n",
       "      <th>program_genre_Biography</th>\n",
       "      <th>program_genre_Comedy</th>\n",
       "      <th>program_genre_Crime</th>\n",
       "      <th>program_genre_Documentary</th>\n",
       "      <th>program_genre_Drama</th>\n",
       "      <th>program_genre_Family</th>\n",
       "      <th>program_genre_Horror</th>\n",
       "      <th>program_genre_Romance</th>\n",
       "      <th>program_genre_Sci-Fi</th>\n",
       "      <th>program_genre_Thriller</th>\n",
       "      <th>program_genre_Wrestling</th>\n",
       "    </tr>\n",
       "  </thead>\n",
       "  <tbody>\n",
       "    <tr>\n",
       "      <td>0</td>\n",
       "      <td>0</td>\n",
       "      <td>0</td>\n",
       "      <td>0</td>\n",
       "      <td>1</td>\n",
       "      <td>0</td>\n",
       "      <td>0</td>\n",
       "      <td>0</td>\n",
       "      <td>1</td>\n",
       "      <td>0</td>\n",
       "      <td>0</td>\n",
       "      <td>0</td>\n",
       "      <td>0</td>\n",
       "      <td>0</td>\n",
       "      <td>0</td>\n",
       "      <td>0</td>\n",
       "      <td>0</td>\n",
       "      <td>0</td>\n",
       "      <td>0</td>\n",
       "      <td>0</td>\n",
       "    </tr>\n",
       "    <tr>\n",
       "      <td>1</td>\n",
       "      <td>0</td>\n",
       "      <td>0</td>\n",
       "      <td>0</td>\n",
       "      <td>0</td>\n",
       "      <td>0</td>\n",
       "      <td>0</td>\n",
       "      <td>0</td>\n",
       "      <td>0</td>\n",
       "      <td>0</td>\n",
       "      <td>0</td>\n",
       "      <td>0</td>\n",
       "      <td>0</td>\n",
       "      <td>1</td>\n",
       "      <td>0</td>\n",
       "      <td>0</td>\n",
       "      <td>0</td>\n",
       "      <td>0</td>\n",
       "      <td>0</td>\n",
       "      <td>0</td>\n",
       "    </tr>\n",
       "    <tr>\n",
       "      <td>2</td>\n",
       "      <td>0</td>\n",
       "      <td>0</td>\n",
       "      <td>0</td>\n",
       "      <td>0</td>\n",
       "      <td>0</td>\n",
       "      <td>0</td>\n",
       "      <td>0</td>\n",
       "      <td>0</td>\n",
       "      <td>0</td>\n",
       "      <td>0</td>\n",
       "      <td>0</td>\n",
       "      <td>0</td>\n",
       "      <td>1</td>\n",
       "      <td>0</td>\n",
       "      <td>0</td>\n",
       "      <td>0</td>\n",
       "      <td>0</td>\n",
       "      <td>0</td>\n",
       "      <td>0</td>\n",
       "    </tr>\n",
       "    <tr>\n",
       "      <td>3</td>\n",
       "      <td>0</td>\n",
       "      <td>0</td>\n",
       "      <td>1</td>\n",
       "      <td>0</td>\n",
       "      <td>0</td>\n",
       "      <td>0</td>\n",
       "      <td>0</td>\n",
       "      <td>1</td>\n",
       "      <td>0</td>\n",
       "      <td>0</td>\n",
       "      <td>0</td>\n",
       "      <td>0</td>\n",
       "      <td>0</td>\n",
       "      <td>0</td>\n",
       "      <td>0</td>\n",
       "      <td>0</td>\n",
       "      <td>0</td>\n",
       "      <td>0</td>\n",
       "      <td>0</td>\n",
       "    </tr>\n",
       "    <tr>\n",
       "      <td>4</td>\n",
       "      <td>0</td>\n",
       "      <td>0</td>\n",
       "      <td>1</td>\n",
       "      <td>0</td>\n",
       "      <td>0</td>\n",
       "      <td>0</td>\n",
       "      <td>0</td>\n",
       "      <td>1</td>\n",
       "      <td>0</td>\n",
       "      <td>0</td>\n",
       "      <td>0</td>\n",
       "      <td>0</td>\n",
       "      <td>0</td>\n",
       "      <td>0</td>\n",
       "      <td>0</td>\n",
       "      <td>0</td>\n",
       "      <td>0</td>\n",
       "      <td>0</td>\n",
       "      <td>0</td>\n",
       "    </tr>\n",
       "  </tbody>\n",
       "</table>\n",
       "</div>"
      ],
      "text/plain": [
       "   age_group_+17  age_group_+7  age_group_+8  age_group_2-6  \\\n",
       "0              0             0             0              1   \n",
       "1              0             0             0              0   \n",
       "2              0             0             0              0   \n",
       "3              0             0             1              0   \n",
       "4              0             0             1              0   \n",
       "\n",
       "   age_group_All ages  age_group_Not Rated  program_genre_Adventure  \\\n",
       "0                   0                    0                        0   \n",
       "1                   0                    0                        0   \n",
       "2                   0                    0                        0   \n",
       "3                   0                    0                        0   \n",
       "4                   0                    0                        0   \n",
       "\n",
       "   program_genre_Animation  program_genre_Biography  program_genre_Comedy  \\\n",
       "0                        1                        0                     0   \n",
       "1                        0                        0                     0   \n",
       "2                        0                        0                     0   \n",
       "3                        1                        0                     0   \n",
       "4                        1                        0                     0   \n",
       "\n",
       "   program_genre_Crime  program_genre_Documentary  program_genre_Drama  \\\n",
       "0                    0                          0                    0   \n",
       "1                    0                          0                    1   \n",
       "2                    0                          0                    1   \n",
       "3                    0                          0                    0   \n",
       "4                    0                          0                    0   \n",
       "\n",
       "   program_genre_Family  program_genre_Horror  program_genre_Romance  \\\n",
       "0                     0                     0                      0   \n",
       "1                     0                     0                      0   \n",
       "2                     0                     0                      0   \n",
       "3                     0                     0                      0   \n",
       "4                     0                     0                      0   \n",
       "\n",
       "   program_genre_Sci-Fi  program_genre_Thriller  program_genre_Wrestling  \n",
       "0                     0                       0                        0  \n",
       "1                     0                       0                        0  \n",
       "2                     0                       0                        0  \n",
       "3                     0                       0                        0  \n",
       "4                     0                       0                        0  "
      ]
     },
     "execution_count": 9,
     "metadata": {},
     "output_type": "execute_result"
    }
   ],
   "source": [
    "cluster_df.head()\n"
   ]
  },
  {
   "cell_type": "code",
   "execution_count": 10,
   "metadata": {},
   "outputs": [],
   "source": [
    "#get max # of clusters\n",
    "for i in range(1,11):\n",
    "    kmeans = KMeans(n_clusters = i, init = 'k-means++', random_state = 0)\n",
    "    kmeans.fit(cluster_df)\n",
    "    wcss.append(kmeans.inertia_)"
   ]
  },
  {
   "cell_type": "code",
   "execution_count": 11,
   "metadata": {
    "scrolled": true
   },
   "outputs": [
    {
     "data": {
      "image/png": "[encoded data removed]",
      "text/plain": [
       "<Figure size 432x288 with 1 Axes>"
      ]
     },
     "metadata": {
      "needs_background": "light"
     },
     "output_type": "display_data"
    }
   ],
   "source": [
    "#Visualizing the ELBOW method to get the optimal value of K \n",
    "plt.plot(range(1,11), wcss)\n",
    "plt.title('The Elbow Method')\n",
    "plt.xlabel('no of clusters')\n",
    "plt.ylabel('wcss')\n",
    "plt.show()"
   ]
  },
  {
   "cell_type": "code",
   "execution_count": 12,
   "metadata": {},
   "outputs": [],
   "source": [
    "new_cluster = cluster_df"
   ]
  },
  {
   "cell_type": "code",
   "execution_count": 13,
   "metadata": {},
   "outputs": [],
   "source": [
    "kmeansmodel = KMeans(n_clusters= 3, init='k-means++', random_state=0).fit(cluster_df)"
   ]
  },
  {
   "cell_type": "code",
   "execution_count": 15,
   "metadata": {},
   "outputs": [],
   "source": [
    "cluster_labels = kmeansmodel.labels_"
   ]
  },
  {
   "cell_type": "code",
   "execution_count": 16,
   "metadata": {},
   "outputs": [],
   "source": [
    "cluster_df['label'] = cluster_labels"
   ]
  },
  {
   "cell_type": "code",
   "execution_count": 17,
   "metadata": {
    "scrolled": true
   },
   "outputs": [],
   "source": [
    "#Create a cluster label column in the original DataFrame\n",
    "new_df = data.assign(Cluster = cluster_labels)"
   ]
  },
  {
   "cell_type": "code",
   "execution_count": 18,
   "metadata": {},
   "outputs": [
    {
     "data": {
      "text/html": [
       "<div>\n",
       "<style scoped>\n",
       "    .dataframe tbody tr th:only-of-type {\n",
       "        vertical-align: middle;\n",
       "    }\n",
       "\n",
       "    .dataframe tbody tr th {\n",
       "        vertical-align: top;\n",
       "    }\n",
       "\n",
       "    .dataframe thead tr th {\n",
       "        text-align: left;\n",
       "    }\n",
       "\n",
       "    .dataframe thead tr:last-of-type th {\n",
       "        text-align: right;\n",
       "    }\n",
       "</style>\n",
       "<table border=\"1\" class=\"dataframe\">\n",
       "  <thead>\n",
       "    <tr>\n",
       "      <th></th>\n",
       "      <th>user_id_maped</th>\n",
       "      <th>season</th>\n",
       "      <th>episode</th>\n",
       "      <th>series_title</th>\n",
       "      <th>hd</th>\n",
       "      <th>duration_minutes</th>\n",
       "      <th>total_runtime</th>\n",
       "      <th>user_rating</th>\n",
       "      <th>avg_rating</th>\n",
       "    </tr>\n",
       "    <tr>\n",
       "      <th></th>\n",
       "      <th>mean</th>\n",
       "      <th>mean</th>\n",
       "      <th>mean</th>\n",
       "      <th>mean</th>\n",
       "      <th>mean</th>\n",
       "      <th>mean</th>\n",
       "      <th>mean</th>\n",
       "      <th>mean</th>\n",
       "      <th>mean</th>\n",
       "    </tr>\n",
       "    <tr>\n",
       "      <th>Cluster</th>\n",
       "      <th></th>\n",
       "      <th></th>\n",
       "      <th></th>\n",
       "      <th></th>\n",
       "      <th></th>\n",
       "      <th></th>\n",
       "      <th></th>\n",
       "      <th></th>\n",
       "      <th></th>\n",
       "    </tr>\n",
       "  </thead>\n",
       "  <tbody>\n",
       "    <tr>\n",
       "      <td>0</td>\n",
       "      <td>16958.0</td>\n",
       "      <td>1.0</td>\n",
       "      <td>6.0</td>\n",
       "      <td>0.0</td>\n",
       "      <td>0.0</td>\n",
       "      <td>19.0</td>\n",
       "      <td>119.0</td>\n",
       "      <td>3.0</td>\n",
       "      <td>6.0</td>\n",
       "    </tr>\n",
       "    <tr>\n",
       "      <td>1</td>\n",
       "      <td>17581.0</td>\n",
       "      <td>2.0</td>\n",
       "      <td>10.0</td>\n",
       "      <td>0.0</td>\n",
       "      <td>0.0</td>\n",
       "      <td>13.0</td>\n",
       "      <td>80.0</td>\n",
       "      <td>5.0</td>\n",
       "      <td>6.0</td>\n",
       "    </tr>\n",
       "    <tr>\n",
       "      <td>2</td>\n",
       "      <td>17077.0</td>\n",
       "      <td>1.0</td>\n",
       "      <td>2.0</td>\n",
       "      <td>0.0</td>\n",
       "      <td>0.0</td>\n",
       "      <td>17.0</td>\n",
       "      <td>112.0</td>\n",
       "      <td>3.0</td>\n",
       "      <td>6.0</td>\n",
       "    </tr>\n",
       "  </tbody>\n",
       "</table>\n",
       "</div>"
      ],
      "text/plain": [
       "        user_id_maped season episode series_title   hd duration_minutes  \\\n",
       "                 mean   mean    mean         mean mean             mean   \n",
       "Cluster                                                                   \n",
       "0             16958.0    1.0     6.0          0.0  0.0             19.0   \n",
       "1             17581.0    2.0    10.0          0.0  0.0             13.0   \n",
       "2             17077.0    1.0     2.0          0.0  0.0             17.0   \n",
       "\n",
       "        total_runtime user_rating avg_rating  \n",
       "                 mean        mean       mean  \n",
       "Cluster                                       \n",
       "0               119.0         3.0        6.0  \n",
       "1                80.0         5.0        6.0  \n",
       "2               112.0         3.0        6.0  "
      ]
     },
     "execution_count": 18,
     "metadata": {},
     "output_type": "execute_result"
    }
   ],
   "source": [
    "#calculate avg and size for each cluster\n",
    "\n",
    "new_df.groupby(['Cluster']).agg(['mean']).round(0)\n",
    "\n"
   ]
  },
  {
   "cell_type": "code",
   "execution_count": 28,
   "metadata": {},
   "outputs": [
    {
     "data": {
      "text/html": [
       "<div>\n",
       "<style scoped>\n",
       "    .dataframe tbody tr th:only-of-type {\n",
       "        vertical-align: middle;\n",
       "    }\n",
       "\n",
       "    .dataframe tbody tr th {\n",
       "        vertical-align: top;\n",
       "    }\n",
       "\n",
       "    .dataframe thead th {\n",
       "        text-align: right;\n",
       "    }\n",
       "</style>\n",
       "<table border=\"1\" class=\"dataframe\">\n",
       "  <thead>\n",
       "    <tr style=\"text-align: right;\">\n",
       "      <th></th>\n",
       "      <th>date_</th>\n",
       "      <th>user_id_maped</th>\n",
       "      <th>program_id</th>\n",
       "      <th>program_name</th>\n",
       "      <th>original_name</th>\n",
       "      <th>program_class</th>\n",
       "      <th>season</th>\n",
       "      <th>episode</th>\n",
       "      <th>program_desc</th>\n",
       "      <th>program_genre</th>\n",
       "      <th>series_title</th>\n",
       "      <th>hd</th>\n",
       "      <th>title</th>\n",
       "      <th>duration_minutes</th>\n",
       "      <th>total_runtime</th>\n",
       "      <th>user_rating</th>\n",
       "      <th>avg_rating</th>\n",
       "      <th>content_rating</th>\n",
       "      <th>age_group</th>\n",
       "    </tr>\n",
       "    <tr>\n",
       "      <th>Cluster</th>\n",
       "      <th></th>\n",
       "      <th></th>\n",
       "      <th></th>\n",
       "      <th></th>\n",
       "      <th></th>\n",
       "      <th></th>\n",
       "      <th></th>\n",
       "      <th></th>\n",
       "      <th></th>\n",
       "      <th></th>\n",
       "      <th></th>\n",
       "      <th></th>\n",
       "      <th></th>\n",
       "      <th></th>\n",
       "      <th></th>\n",
       "      <th></th>\n",
       "      <th></th>\n",
       "      <th></th>\n",
       "      <th></th>\n",
       "    </tr>\n",
       "  </thead>\n",
       "  <tbody>\n",
       "    <tr>\n",
       "      <td>0</td>\n",
       "      <td>1535310</td>\n",
       "      <td>1535310</td>\n",
       "      <td>1535310</td>\n",
       "      <td>1535310</td>\n",
       "      <td>1535310</td>\n",
       "      <td>1535310</td>\n",
       "      <td>1535310</td>\n",
       "      <td>1535310</td>\n",
       "      <td>1535310</td>\n",
       "      <td>1535310</td>\n",
       "      <td>1535310</td>\n",
       "      <td>1535310</td>\n",
       "      <td>1535310</td>\n",
       "      <td>1535310</td>\n",
       "      <td>1535310</td>\n",
       "      <td>1535310</td>\n",
       "      <td>1535310</td>\n",
       "      <td>1535310</td>\n",
       "      <td>1535310</td>\n",
       "    </tr>\n",
       "    <tr>\n",
       "      <td>1</td>\n",
       "      <td>1529171</td>\n",
       "      <td>1529171</td>\n",
       "      <td>1529171</td>\n",
       "      <td>1529171</td>\n",
       "      <td>1529171</td>\n",
       "      <td>1529171</td>\n",
       "      <td>1529171</td>\n",
       "      <td>1529171</td>\n",
       "      <td>1529171</td>\n",
       "      <td>1529171</td>\n",
       "      <td>1529171</td>\n",
       "      <td>1529171</td>\n",
       "      <td>1529171</td>\n",
       "      <td>1529171</td>\n",
       "      <td>1529171</td>\n",
       "      <td>1529171</td>\n",
       "      <td>1529171</td>\n",
       "      <td>1529171</td>\n",
       "      <td>1529171</td>\n",
       "    </tr>\n",
       "    <tr>\n",
       "      <td>2</td>\n",
       "      <td>861693</td>\n",
       "      <td>861693</td>\n",
       "      <td>861693</td>\n",
       "      <td>861693</td>\n",
       "      <td>861693</td>\n",
       "      <td>861693</td>\n",
       "      <td>861693</td>\n",
       "      <td>861693</td>\n",
       "      <td>861693</td>\n",
       "      <td>861693</td>\n",
       "      <td>861693</td>\n",
       "      <td>861693</td>\n",
       "      <td>861693</td>\n",
       "      <td>861693</td>\n",
       "      <td>861693</td>\n",
       "      <td>861693</td>\n",
       "      <td>861693</td>\n",
       "      <td>861693</td>\n",
       "      <td>861693</td>\n",
       "    </tr>\n",
       "  </tbody>\n",
       "</table>\n",
       "</div>"
      ],
      "text/plain": [
       "           date_  user_id_maped  program_id  program_name  original_name  \\\n",
       "Cluster                                                                    \n",
       "0        1535310        1535310     1535310       1535310        1535310   \n",
       "1        1529171        1529171     1529171       1529171        1529171   \n",
       "2         861693         861693      861693        861693         861693   \n",
       "\n",
       "         program_class   season  episode  program_desc  program_genre  \\\n",
       "Cluster                                                                 \n",
       "0              1535310  1535310  1535310       1535310        1535310   \n",
       "1              1529171  1529171  1529171       1529171        1529171   \n",
       "2               861693   861693   861693        861693         861693   \n",
       "\n",
       "         series_title       hd    title  duration_minutes  total_runtime  \\\n",
       "Cluster                                                                    \n",
       "0             1535310  1535310  1535310           1535310        1535310   \n",
       "1             1529171  1529171  1529171           1529171        1529171   \n",
       "2              861693   861693   861693            861693         861693   \n",
       "\n",
       "         user_rating  avg_rating  content_rating  age_group  \n",
       "Cluster                                                      \n",
       "0            1535310     1535310         1535310    1535310  \n",
       "1            1529171     1529171         1529171    1529171  \n",
       "2             861693      861693          861693     861693  "
      ]
     },
     "execution_count": 28,
     "metadata": {},
     "output_type": "execute_result"
    }
   ],
   "source": [
    "new_df.groupby(['Cluster']).count()"
   ]
  },
  {
   "cell_type": "code",
   "execution_count": 103,
   "metadata": {},
   "outputs": [],
   "source": [
    "#cluster_avg = new_df.groupby(['Cluster']).mean()\n",
    "#cluster_avg"
   ]
  },
  {
   "cell_type": "code",
   "execution_count": 30,
   "metadata": {},
   "outputs": [
    {
     "data": {
      "text/plain": [
       "0    1535310\n",
       "1    1529171\n",
       "2     861693\n",
       "Name: Cluster, dtype: int64"
      ]
     },
     "execution_count": 30,
     "metadata": {},
     "output_type": "execute_result"
    }
   ],
   "source": [
    "#observation in each cluster\n",
    "new_df['Cluster'].value_counts()"
   ]
  },
  {
   "cell_type": "code",
   "execution_count": 56,
   "metadata": {},
   "outputs": [
    {
     "data": {
      "text/html": [
       "<div>\n",
       "<style scoped>\n",
       "    .dataframe tbody tr th:only-of-type {\n",
       "        vertical-align: middle;\n",
       "    }\n",
       "\n",
       "    .dataframe tbody tr th {\n",
       "        vertical-align: top;\n",
       "    }\n",
       "\n",
       "    .dataframe thead th {\n",
       "        text-align: right;\n",
       "    }\n",
       "</style>\n",
       "<table border=\"1\" class=\"dataframe\">\n",
       "  <thead>\n",
       "    <tr style=\"text-align: right;\">\n",
       "      <th></th>\n",
       "      <th>date_</th>\n",
       "      <th>user_id_maped</th>\n",
       "      <th>program_id</th>\n",
       "      <th>program_name</th>\n",
       "      <th>original_name</th>\n",
       "      <th>program_class</th>\n",
       "      <th>season</th>\n",
       "      <th>episode</th>\n",
       "      <th>program_desc</th>\n",
       "      <th>program_genre</th>\n",
       "      <th>series_title</th>\n",
       "      <th>hd</th>\n",
       "      <th>title</th>\n",
       "      <th>duration_minutes</th>\n",
       "      <th>total_runtime</th>\n",
       "      <th>user_rating</th>\n",
       "      <th>avg_rating</th>\n",
       "      <th>content_rating</th>\n",
       "      <th>age_group</th>\n",
       "      <th>Cluster</th>\n",
       "    </tr>\n",
       "  </thead>\n",
       "  <tbody>\n",
       "    <tr>\n",
       "      <td>0</td>\n",
       "      <td>2017-08-16</td>\n",
       "      <td>6928</td>\n",
       "      <td>M0009670</td>\n",
       "      <td>The Boss Baby</td>\n",
       "      <td>The Boss Baby</td>\n",
       "      <td>MOVIE</td>\n",
       "      <td>0</td>\n",
       "      <td>0</td>\n",
       "      <td>Animation MovieThe Boss Baby (HD)</td>\n",
       "      <td>Animation</td>\n",
       "      <td>False</td>\n",
       "      <td>True</td>\n",
       "      <td>The Boss Baby</td>\n",
       "      <td>0.280000</td>\n",
       "      <td>96.940002</td>\n",
       "      <td>1.5</td>\n",
       "      <td>6.1</td>\n",
       "      <td>TV-Y</td>\n",
       "      <td>2-6</td>\n",
       "      <td>1</td>\n",
       "    </tr>\n",
       "    <tr>\n",
       "      <td>1</td>\n",
       "      <td>2017-05-27</td>\n",
       "      <td>26138</td>\n",
       "      <td>M0005792SD</td>\n",
       "      <td>100 Streets</td>\n",
       "      <td>100 Streets</td>\n",
       "      <td>MOVIE</td>\n",
       "      <td>0</td>\n",
       "      <td>0</td>\n",
       "      <td>Drama Movie100 Streets</td>\n",
       "      <td>Drama</td>\n",
       "      <td>False</td>\n",
       "      <td>False</td>\n",
       "      <td>100 Streets</td>\n",
       "      <td>0.670000</td>\n",
       "      <td>92.940002</td>\n",
       "      <td>1.5</td>\n",
       "      <td>6.2</td>\n",
       "      <td>TV-14</td>\n",
       "      <td>+14</td>\n",
       "      <td>0</td>\n",
       "    </tr>\n",
       "    <tr>\n",
       "      <td>2</td>\n",
       "      <td>2017-09-16</td>\n",
       "      <td>19082</td>\n",
       "      <td>S000805901001</td>\n",
       "      <td>Heroes Reborn Brave New World</td>\n",
       "      <td>Heroes Reborn</td>\n",
       "      <td>SERIES/EPISODES</td>\n",
       "      <td>1</td>\n",
       "      <td>1</td>\n",
       "      <td>Drama MovieBrave New World (HD)</td>\n",
       "      <td>Drama</td>\n",
       "      <td>False</td>\n",
       "      <td>False</td>\n",
       "      <td>Heroes Reborn</td>\n",
       "      <td>28.200001</td>\n",
       "      <td>60.000000</td>\n",
       "      <td>4.7</td>\n",
       "      <td>6.7</td>\n",
       "      <td>TV-14</td>\n",
       "      <td>+14</td>\n",
       "      <td>0</td>\n",
       "    </tr>\n",
       "    <tr>\n",
       "      <td>3</td>\n",
       "      <td>2017-05-21</td>\n",
       "      <td>7946</td>\n",
       "      <td>M0004410</td>\n",
       "      <td>Moana</td>\n",
       "      <td>Moana</td>\n",
       "      <td>MOVIE</td>\n",
       "      <td>0</td>\n",
       "      <td>0</td>\n",
       "      <td>Animation MovieMoana (HD)</td>\n",
       "      <td>Animation</td>\n",
       "      <td>False</td>\n",
       "      <td>True</td>\n",
       "      <td>Moana</td>\n",
       "      <td>0.280000</td>\n",
       "      <td>107.059998</td>\n",
       "      <td>1.5</td>\n",
       "      <td>7.3</td>\n",
       "      <td>PG</td>\n",
       "      <td>+8</td>\n",
       "      <td>1</td>\n",
       "    </tr>\n",
       "    <tr>\n",
       "      <td>4</td>\n",
       "      <td>2017-08-10</td>\n",
       "      <td>7418</td>\n",
       "      <td>M0005895</td>\n",
       "      <td>The Mermaid Princess</td>\n",
       "      <td>The Mermaid Princess</td>\n",
       "      <td>MOVIE</td>\n",
       "      <td>0</td>\n",
       "      <td>0</td>\n",
       "      <td>Animation MovieThe Mermaid Princess (HD)</td>\n",
       "      <td>Animation</td>\n",
       "      <td>False</td>\n",
       "      <td>True</td>\n",
       "      <td>The Mermaid Princess</td>\n",
       "      <td>0.130000</td>\n",
       "      <td>77.000000</td>\n",
       "      <td>1.5</td>\n",
       "      <td>4.4</td>\n",
       "      <td>PG</td>\n",
       "      <td>+8</td>\n",
       "      <td>1</td>\n",
       "    </tr>\n",
       "  </tbody>\n",
       "</table>\n",
       "</div>"
      ],
      "text/plain": [
       "       date_  user_id_maped     program_id                   program_name  \\\n",
       "0 2017-08-16           6928       M0009670                  The Boss Baby   \n",
       "1 2017-05-27          26138     M0005792SD                    100 Streets   \n",
       "2 2017-09-16          19082  S000805901001  Heroes Reborn Brave New World   \n",
       "3 2017-05-21           7946       M0004410                          Moana   \n",
       "4 2017-08-10           7418       M0005895           The Mermaid Princess   \n",
       "\n",
       "          original_name    program_class  season  episode  \\\n",
       "0         The Boss Baby            MOVIE       0        0   \n",
       "1           100 Streets            MOVIE       0        0   \n",
       "2         Heroes Reborn  SERIES/EPISODES       1        1   \n",
       "3                 Moana            MOVIE       0        0   \n",
       "4  The Mermaid Princess            MOVIE       0        0   \n",
       "\n",
       "                               program_desc program_genre  series_title  \\\n",
       "0         Animation MovieThe Boss Baby (HD)     Animation         False   \n",
       "1                    Drama Movie100 Streets         Drama         False   \n",
       "2           Drama MovieBrave New World (HD)         Drama         False   \n",
       "3                 Animation MovieMoana (HD)     Animation         False   \n",
       "4  Animation MovieThe Mermaid Princess (HD)     Animation         False   \n",
       "\n",
       "      hd                 title  duration_minutes  total_runtime  user_rating  \\\n",
       "0   True         The Boss Baby          0.280000      96.940002          1.5   \n",
       "1  False           100 Streets          0.670000      92.940002          1.5   \n",
       "2  False         Heroes Reborn         28.200001      60.000000          4.7   \n",
       "3   True                 Moana          0.280000     107.059998          1.5   \n",
       "4   True  The Mermaid Princess          0.130000      77.000000          1.5   \n",
       "\n",
       "   avg_rating content_rating age_group  Cluster  \n",
       "0         6.1           TV-Y       2-6        1  \n",
       "1         6.2          TV-14       +14        0  \n",
       "2         6.7          TV-14       +14        0  \n",
       "3         7.3             PG        +8        1  \n",
       "4         4.4             PG        +8        1  "
      ]
     },
     "execution_count": 56,
     "metadata": {},
     "output_type": "execute_result"
    }
   ],
   "source": [
    "# Plot the results\n",
    "new_df.head()"
   ]
  },
  {
   "cell_type": "markdown",
   "metadata": {},
   "source": [
    "## Visulaizations"
   ]
  },
  {
   "cell_type": "markdown",
   "metadata": {},
   "source": [
    "### Cluster 1"
   ]
  },
  {
   "cell_type": "raw",
   "metadata": {},
   "source": [
    "Users that are in Cluster 1 tend to watch programs that are rated as PG-13 and TV-14. users seem to have ages around 7-14 years"
   ]
  },
  {
   "cell_type": "code",
   "execution_count": 74,
   "metadata": {},
   "outputs": [],
   "source": [
    "#Visualizing for clusters \n",
    "#Cluster 1\n",
    "cluster1 = new_df.loc[new_df['Cluster'] == 0]"
   ]
  },
  {
   "cell_type": "code",
   "execution_count": 81,
   "metadata": {},
   "outputs": [
    {
     "data": {
      "text/html": [
       "<div>\n",
       "<style scoped>\n",
       "    .dataframe tbody tr th:only-of-type {\n",
       "        vertical-align: middle;\n",
       "    }\n",
       "\n",
       "    .dataframe tbody tr th {\n",
       "        vertical-align: top;\n",
       "    }\n",
       "\n",
       "    .dataframe thead th {\n",
       "        text-align: right;\n",
       "    }\n",
       "</style>\n",
       "<table border=\"1\" class=\"dataframe\">\n",
       "  <thead>\n",
       "    <tr style=\"text-align: right;\">\n",
       "      <th></th>\n",
       "      <th>age_group</th>\n",
       "      <th>count</th>\n",
       "    </tr>\n",
       "  </thead>\n",
       "  <tbody>\n",
       "    <tr>\n",
       "      <td>0</td>\n",
       "      <td>+14</td>\n",
       "      <td>1084719</td>\n",
       "    </tr>\n",
       "    <tr>\n",
       "      <td>1</td>\n",
       "      <td>+8</td>\n",
       "      <td>300640</td>\n",
       "    </tr>\n",
       "    <tr>\n",
       "      <td>2</td>\n",
       "      <td>All ages</td>\n",
       "      <td>147856</td>\n",
       "    </tr>\n",
       "    <tr>\n",
       "      <td>3</td>\n",
       "      <td>+7</td>\n",
       "      <td>1188</td>\n",
       "    </tr>\n",
       "    <tr>\n",
       "      <td>4</td>\n",
       "      <td>Not Rated</td>\n",
       "      <td>489</td>\n",
       "    </tr>\n",
       "  </tbody>\n",
       "</table>\n",
       "</div>"
      ],
      "text/plain": [
       "   age_group    count\n",
       "0        +14  1084719\n",
       "1         +8   300640\n",
       "2   All ages   147856\n",
       "3         +7     1188\n",
       "4  Not Rated      489"
      ]
     },
     "execution_count": 81,
     "metadata": {},
     "output_type": "execute_result"
    }
   ],
   "source": [
    "#age Group\n",
    "\n",
    "age_range = pd.DataFrame(cluster1.age_group.value_counts()).reset_index()\n",
    "age_range.columns = ['age_group', 'count']\n",
    "age_range = age_range.sort_values(['count'], ascending=False)\n",
    "\n",
    "age_range.head()"
   ]
  },
  {
   "cell_type": "code",
   "execution_count": 83,
   "metadata": {},
   "outputs": [
    {
     "data": {
      "text/plain": [
       "Text(0.5, 1.0, 'Cluster 1: Group Ages of users')"
      ]
     },
     "execution_count": 83,
     "metadata": {},
     "output_type": "execute_result"
    },
    {
     "data": {
      "image/png": "[encoded data removed]",
      "text/plain": [
       "<Figure size 1224x720 with 1 Axes>"
      ]
     },
     "metadata": {
      "needs_background": "light"
     },
     "output_type": "display_data"
    }
   ],
   "source": [
    "#Age Visulaization cluster 1 \n",
    "plt.figure(figsize=(17, 10))\n",
    "ax = sns.barplot(x = 'age_group', y = 'count',\n",
    "            data = age_range)\n",
    "ax.set(xlabel='Ages Groups', ylabel='Counts')\n",
    "plt.title('Cluster 1: Group Ages of users')"
   ]
  },
  {
   "cell_type": "code",
   "execution_count": 85,
   "metadata": {},
   "outputs": [
    {
     "data": {
      "text/html": [
       "<div>\n",
       "<style scoped>\n",
       "    .dataframe tbody tr th:only-of-type {\n",
       "        vertical-align: middle;\n",
       "    }\n",
       "\n",
       "    .dataframe tbody tr th {\n",
       "        vertical-align: top;\n",
       "    }\n",
       "\n",
       "    .dataframe thead th {\n",
       "        text-align: right;\n",
       "    }\n",
       "</style>\n",
       "<table border=\"1\" class=\"dataframe\">\n",
       "  <thead>\n",
       "    <tr style=\"text-align: right;\">\n",
       "      <th></th>\n",
       "      <th>program_genre</th>\n",
       "      <th>count</th>\n",
       "    </tr>\n",
       "  </thead>\n",
       "  <tbody>\n",
       "    <tr>\n",
       "      <td>0</td>\n",
       "      <td>Drama</td>\n",
       "      <td>450581</td>\n",
       "    </tr>\n",
       "    <tr>\n",
       "      <td>1</td>\n",
       "      <td>Action</td>\n",
       "      <td>432473</td>\n",
       "    </tr>\n",
       "    <tr>\n",
       "      <td>2</td>\n",
       "      <td>Comedy</td>\n",
       "      <td>410541</td>\n",
       "    </tr>\n",
       "    <tr>\n",
       "      <td>3</td>\n",
       "      <td>Family</td>\n",
       "      <td>103125</td>\n",
       "    </tr>\n",
       "    <tr>\n",
       "      <td>4</td>\n",
       "      <td>Documentary</td>\n",
       "      <td>54083</td>\n",
       "    </tr>\n",
       "  </tbody>\n",
       "</table>\n",
       "</div>"
      ],
      "text/plain": [
       "  program_genre   count\n",
       "0         Drama  450581\n",
       "1        Action  432473\n",
       "2        Comedy  410541\n",
       "3        Family  103125\n",
       "4   Documentary   54083"
      ]
     },
     "execution_count": 85,
     "metadata": {},
     "output_type": "execute_result"
    }
   ],
   "source": [
    "#Genres\n",
    "\n",
    "genres = pd.DataFrame(cluster1.program_genre.value_counts()).reset_index()\n",
    "genres.columns = ['program_genre', 'count']\n",
    "genres = genres.sort_values(['count'], ascending=False)\n",
    "\n",
    "genres.head()"
   ]
  },
  {
   "cell_type": "code",
   "execution_count": 86,
   "metadata": {},
   "outputs": [
    {
     "data": {
      "text/plain": [
       "Text(0.5, 1.0, 'Cluster 1: Most Watched Genres By users')"
      ]
     },
     "execution_count": 86,
     "metadata": {},
     "output_type": "execute_result"
    },
    {
     "data": {
      "image/png": "[encoded data removed]",
      "text/plain": [
       "<Figure size 1728x720 with 1 Axes>"
      ]
     },
     "metadata": {
      "needs_background": "light"
     },
     "output_type": "display_data"
    }
   ],
   "source": [
    "plt.figure(figsize=(24, 10))\n",
    "ax = sns.barplot(x = 'program_genre', y = 'count',\n",
    "            data = genres)\n",
    "ax.set(xlabel='Program Genres', ylabel='Counts')\n",
    "plt.title('Cluster 1: Most Watched Genres By users')"
   ]
  },
  {
   "cell_type": "code",
   "execution_count": 102,
   "metadata": {},
   "outputs": [
    {
     "data": {
      "text/plain": [
       "Text(0.5, 1.0, 'Cluster 1: Programs Rating')"
      ]
     },
     "execution_count": 102,
     "metadata": {},
     "output_type": "execute_result"
    },
    {
     "data": {
      "image/png": "[encoded data removed]",
      "text/plain": [
       "<Figure size 1728x720 with 1 Axes>"
      ]
     },
     "metadata": {
      "needs_background": "light"
     },
     "output_type": "display_data"
    }
   ],
   "source": [
    "#Content Rating\n",
    "\n",
    "content_rating_df1 = pd.DataFrame(cluster1.content_rating.value_counts()).reset_index()\n",
    "content_rating_df1.columns = ['content_rating', 'count']\n",
    "content_rating_df1 = content_rating_df1.sort_values(['count'], ascending=False)\n",
    "\n",
    "content_rating_df.head()\n",
    "\n",
    "plt.figure(figsize=(24, 10))\n",
    "ax = sns.barplot(x = 'content_rating', y = 'count',\n",
    "            data = content_rating_df1)\n",
    "ax.set(xlabel='Program Genres', ylabel='Counts')\n",
    "plt.title('Cluster 1: Programs Rating')"
   ]
  },
  {
   "cell_type": "markdown",
   "metadata": {},
   "source": [
    "### Cluster 2"
   ]
  },
  {
   "cell_type": "raw",
   "metadata": {},
   "source": [
    "Users that are in Cluster 2 tend to watch mostly animation series programs. They're ages seems to be from age 2 and above."
   ]
  },
  {
   "cell_type": "code",
   "execution_count": 87,
   "metadata": {},
   "outputs": [],
   "source": [
    "##Cluster 2\n",
    "cluster2 = new_df.loc[new_df['Cluster'] == 1]"
   ]
  },
  {
   "cell_type": "code",
   "execution_count": 88,
   "metadata": {},
   "outputs": [
    {
     "data": {
      "text/html": [
       "<div>\n",
       "<style scoped>\n",
       "    .dataframe tbody tr th:only-of-type {\n",
       "        vertical-align: middle;\n",
       "    }\n",
       "\n",
       "    .dataframe tbody tr th {\n",
       "        vertical-align: top;\n",
       "    }\n",
       "\n",
       "    .dataframe thead th {\n",
       "        text-align: right;\n",
       "    }\n",
       "</style>\n",
       "<table border=\"1\" class=\"dataframe\">\n",
       "  <thead>\n",
       "    <tr style=\"text-align: right;\">\n",
       "      <th></th>\n",
       "      <th>age_group</th>\n",
       "      <th>count</th>\n",
       "    </tr>\n",
       "  </thead>\n",
       "  <tbody>\n",
       "    <tr>\n",
       "      <td>0</td>\n",
       "      <td>2-6</td>\n",
       "      <td>1030153</td>\n",
       "    </tr>\n",
       "    <tr>\n",
       "      <td>1</td>\n",
       "      <td>+8</td>\n",
       "      <td>303837</td>\n",
       "    </tr>\n",
       "    <tr>\n",
       "      <td>2</td>\n",
       "      <td>All ages</td>\n",
       "      <td>102340</td>\n",
       "    </tr>\n",
       "    <tr>\n",
       "      <td>3</td>\n",
       "      <td>+7</td>\n",
       "      <td>68955</td>\n",
       "    </tr>\n",
       "    <tr>\n",
       "      <td>4</td>\n",
       "      <td>+14</td>\n",
       "      <td>23846</td>\n",
       "    </tr>\n",
       "  </tbody>\n",
       "</table>\n",
       "</div>"
      ],
      "text/plain": [
       "  age_group    count\n",
       "0       2-6  1030153\n",
       "1        +8   303837\n",
       "2  All ages   102340\n",
       "3        +7    68955\n",
       "4       +14    23846"
      ]
     },
     "execution_count": 88,
     "metadata": {},
     "output_type": "execute_result"
    }
   ],
   "source": [
    "#age Group\n",
    "\n",
    "age_range2 = pd.DataFrame(cluster2.age_group.value_counts()).reset_index()\n",
    "age_range2.columns = ['age_group', 'count']\n",
    "age_range2 = age_range2.sort_values(['count'], ascending=False)\n",
    "\n",
    "age_range2.head()"
   ]
  },
  {
   "cell_type": "code",
   "execution_count": 89,
   "metadata": {},
   "outputs": [
    {
     "data": {
      "text/plain": [
       "Text(0.5, 1.0, 'Cluster 2: Group Ages of users')"
      ]
     },
     "execution_count": 89,
     "metadata": {},
     "output_type": "execute_result"
    },
    {
     "data": {
      "image/png": "[encoded data removed]",
      "text/plain": [
       "<Figure size 1224x720 with 1 Axes>"
      ]
     },
     "metadata": {
      "needs_background": "light"
     },
     "output_type": "display_data"
    }
   ],
   "source": [
    "#Age Visulaization cluster 2\n",
    "\n",
    "plt.figure(figsize=(17, 10))\n",
    "ax = sns.barplot(x = 'age_group', y = 'count',\n",
    "            data = age_range2)\n",
    "ax.set(xlabel='Ages Groups', ylabel='Counts')\n",
    "plt.title('Cluster 2: Group Ages of users')"
   ]
  },
  {
   "cell_type": "code",
   "execution_count": 90,
   "metadata": {},
   "outputs": [
    {
     "data": {
      "text/html": [
       "<div>\n",
       "<style scoped>\n",
       "    .dataframe tbody tr th:only-of-type {\n",
       "        vertical-align: middle;\n",
       "    }\n",
       "\n",
       "    .dataframe tbody tr th {\n",
       "        vertical-align: top;\n",
       "    }\n",
       "\n",
       "    .dataframe thead th {\n",
       "        text-align: right;\n",
       "    }\n",
       "</style>\n",
       "<table border=\"1\" class=\"dataframe\">\n",
       "  <thead>\n",
       "    <tr style=\"text-align: right;\">\n",
       "      <th></th>\n",
       "      <th>program_genre</th>\n",
       "      <th>count</th>\n",
       "    </tr>\n",
       "  </thead>\n",
       "  <tbody>\n",
       "    <tr>\n",
       "      <td>0</td>\n",
       "      <td>Animation</td>\n",
       "      <td>1528682</td>\n",
       "    </tr>\n",
       "    <tr>\n",
       "      <td>1</td>\n",
       "      <td>Action</td>\n",
       "      <td>489</td>\n",
       "    </tr>\n",
       "    <tr>\n",
       "      <td>2</td>\n",
       "      <td>Wrestling</td>\n",
       "      <td>0</td>\n",
       "    </tr>\n",
       "    <tr>\n",
       "      <td>3</td>\n",
       "      <td>Thriller</td>\n",
       "      <td>0</td>\n",
       "    </tr>\n",
       "    <tr>\n",
       "      <td>4</td>\n",
       "      <td>Sci-Fi</td>\n",
       "      <td>0</td>\n",
       "    </tr>\n",
       "  </tbody>\n",
       "</table>\n",
       "</div>"
      ],
      "text/plain": [
       "  program_genre    count\n",
       "0     Animation  1528682\n",
       "1        Action      489\n",
       "2     Wrestling        0\n",
       "3      Thriller        0\n",
       "4        Sci-Fi        0"
      ]
     },
     "execution_count": 90,
     "metadata": {},
     "output_type": "execute_result"
    }
   ],
   "source": [
    "#Genres\n",
    "\n",
    "genres2 = pd.DataFrame(cluster2.program_genre.value_counts()).reset_index()\n",
    "genres2.columns = ['program_genre', 'count']\n",
    "genres2 = genres2.sort_values(['count'], ascending=False)\n",
    "\n",
    "genres2.head()"
   ]
  },
  {
   "cell_type": "code",
   "execution_count": 92,
   "metadata": {},
   "outputs": [
    {
     "data": {
      "text/plain": [
       "Text(0.5, 1.0, 'Cluster 1: Most Watched Genres By users')"
      ]
     },
     "execution_count": 92,
     "metadata": {},
     "output_type": "execute_result"
    },
    {
     "data": {
      "image/png": "[encoded data removed]",
      "text/plain": [
       "<Figure size 1728x720 with 1 Axes>"
      ]
     },
     "metadata": {
      "needs_background": "light"
     },
     "output_type": "display_data"
    }
   ],
   "source": [
    "plt.figure(figsize=(24, 10))\n",
    "ax = sns.barplot(x = 'program_genre', y = 'count',\n",
    "            data = genres2)\n",
    "ax.set(xlabel='Program Genres', ylabel='Counts')\n",
    "plt.title('Cluster 1: Most Watched Genres By users')"
   ]
  },
  {
   "cell_type": "code",
   "execution_count": 101,
   "metadata": {},
   "outputs": [
    {
     "data": {
      "text/plain": [
       "Text(0.5, 1.0, 'Cluster 2: Programs Rating')"
      ]
     },
     "execution_count": 101,
     "metadata": {},
     "output_type": "execute_result"
    },
    {
     "data": {
      "image/png": "[encoded data removed]",
      "text/plain": [
       "<Figure size 1728x720 with 1 Axes>"
      ]
     },
     "metadata": {
      "needs_background": "light"
     },
     "output_type": "display_data"
    }
   ],
   "source": [
    "#Content Rating\n",
    "\n",
    "content_rating_df2 = pd.DataFrame(cluster2.content_rating.value_counts()).reset_index()\n",
    "content_rating_df2.columns = ['content_rating', 'count']\n",
    "content_rating_df2 = content_rating_df2.sort_values(['count'], ascending=False)\n",
    "\n",
    "content_rating_df.head()\n",
    "\n",
    "plt.figure(figsize=(24, 10))\n",
    "ax = sns.barplot(x = 'content_rating', y = 'count',\n",
    "            data = content_rating_df2)\n",
    "ax.set(xlabel='Program Genres', ylabel='Counts')\n",
    "plt.title('Cluster 2: Programs Rating')"
   ]
  },
  {
   "cell_type": "code",
   "execution_count": 129,
   "metadata": {},
   "outputs": [
    {
     "data": {
      "text/plain": [
       "Text(0.5, 1.0, 'Cluster 2: Programs Classes')"
      ]
     },
     "execution_count": 129,
     "metadata": {},
     "output_type": "execute_result"
    },
    {
     "data": {
      "image/png": "[encoded data removed]",
      "text/plain": [
       "<Figure size 1728x720 with 1 Axes>"
      ]
     },
     "metadata": {
      "needs_background": "light"
     },
     "output_type": "display_data"
    }
   ],
   "source": [
    "#Movies VS Series\n",
    "\n",
    "movies_df1 = pd.DataFrame(cluster2.program_class.value_counts()).reset_index()\n",
    "movies_df1.columns = ['program_class', 'count']\n",
    "movies_df1 = movies_df1.sort_values(['count'], ascending=False)\n",
    "\n",
    "plt.figure(figsize=(24, 10))\n",
    "ax = sns.barplot(x = 'program_class', y = 'count',\n",
    "            data = movies_df1)\n",
    "ax.set(xlabel='Program Classes', ylabel='Counts')\n",
    "plt.title('Cluster 2: Programs Classes')"
   ]
  },
  {
   "cell_type": "markdown",
   "metadata": {},
   "source": [
    "### Cluster 3"
   ]
  },
  {
   "cell_type": "raw",
   "metadata": {},
   "source": [
    "Users in Cluster 3 have watched Programs for ages +17. Their watching genres changes but mostly watching Horror and Action Programs. They tend to watch movies more than series."
   ]
  },
  {
   "cell_type": "code",
   "execution_count": 93,
   "metadata": {},
   "outputs": [],
   "source": [
    "##Cluster 3\n",
    "cluster3 = new_df.loc[new_df['Cluster'] == 2]"
   ]
  },
  {
   "cell_type": "code",
   "execution_count": 94,
   "metadata": {},
   "outputs": [
    {
     "data": {
      "text/html": [
       "<div>\n",
       "<style scoped>\n",
       "    .dataframe tbody tr th:only-of-type {\n",
       "        vertical-align: middle;\n",
       "    }\n",
       "\n",
       "    .dataframe tbody tr th {\n",
       "        vertical-align: top;\n",
       "    }\n",
       "\n",
       "    .dataframe thead th {\n",
       "        text-align: right;\n",
       "    }\n",
       "</style>\n",
       "<table border=\"1\" class=\"dataframe\">\n",
       "  <thead>\n",
       "    <tr style=\"text-align: right;\">\n",
       "      <th></th>\n",
       "      <th>age_group</th>\n",
       "      <th>count</th>\n",
       "    </tr>\n",
       "  </thead>\n",
       "  <tbody>\n",
       "    <tr>\n",
       "      <td>0</td>\n",
       "      <td>+17</td>\n",
       "      <td>861693</td>\n",
       "    </tr>\n",
       "    <tr>\n",
       "      <td>1</td>\n",
       "      <td>Not Rated</td>\n",
       "      <td>0</td>\n",
       "    </tr>\n",
       "    <tr>\n",
       "      <td>2</td>\n",
       "      <td>All ages</td>\n",
       "      <td>0</td>\n",
       "    </tr>\n",
       "    <tr>\n",
       "      <td>3</td>\n",
       "      <td>2-6</td>\n",
       "      <td>0</td>\n",
       "    </tr>\n",
       "    <tr>\n",
       "      <td>4</td>\n",
       "      <td>+8</td>\n",
       "      <td>0</td>\n",
       "    </tr>\n",
       "  </tbody>\n",
       "</table>\n",
       "</div>"
      ],
      "text/plain": [
       "   age_group   count\n",
       "0        +17  861693\n",
       "1  Not Rated       0\n",
       "2   All ages       0\n",
       "3        2-6       0\n",
       "4         +8       0"
      ]
     },
     "execution_count": 94,
     "metadata": {},
     "output_type": "execute_result"
    }
   ],
   "source": [
    "#age Group\n",
    "\n",
    "age_range3 = pd.DataFrame(cluster3.age_group.value_counts()).reset_index()\n",
    "age_range3.columns = ['age_group', 'count']\n",
    "age_range3 = age_range3.sort_values(['count'], ascending=False)\n",
    "\n",
    "age_range3.head()"
   ]
  },
  {
   "cell_type": "code",
   "execution_count": 95,
   "metadata": {},
   "outputs": [
    {
     "data": {
      "text/plain": [
       "Text(0.5, 1.0, 'Cluster 3: Group Ages of users')"
      ]
     },
     "execution_count": 95,
     "metadata": {},
     "output_type": "execute_result"
    },
    {
     "data": {
      "image/png": "[encoded data removed]",
      "text/plain": [
       "<Figure size 1224x720 with 1 Axes>"
      ]
     },
     "metadata": {
      "needs_background": "light"
     },
     "output_type": "display_data"
    }
   ],
   "source": [
    "#Age Visulaization cluster 3\n",
    "\n",
    "plt.figure(figsize=(17, 10))\n",
    "ax = sns.barplot(x = 'age_group', y = 'count',\n",
    "            data = age_range3)\n",
    "ax.set(xlabel='Ages Groups', ylabel='Counts')\n",
    "plt.title('Cluster 3: Group Ages of users')"
   ]
  },
  {
   "cell_type": "code",
   "execution_count": 96,
   "metadata": {},
   "outputs": [
    {
     "data": {
      "text/html": [
       "<div>\n",
       "<style scoped>\n",
       "    .dataframe tbody tr th:only-of-type {\n",
       "        vertical-align: middle;\n",
       "    }\n",
       "\n",
       "    .dataframe tbody tr th {\n",
       "        vertical-align: top;\n",
       "    }\n",
       "\n",
       "    .dataframe thead th {\n",
       "        text-align: right;\n",
       "    }\n",
       "</style>\n",
       "<table border=\"1\" class=\"dataframe\">\n",
       "  <thead>\n",
       "    <tr style=\"text-align: right;\">\n",
       "      <th></th>\n",
       "      <th>program_genre</th>\n",
       "      <th>count</th>\n",
       "    </tr>\n",
       "  </thead>\n",
       "  <tbody>\n",
       "    <tr>\n",
       "      <td>0</td>\n",
       "      <td>Horror</td>\n",
       "      <td>240099</td>\n",
       "    </tr>\n",
       "    <tr>\n",
       "      <td>1</td>\n",
       "      <td>Action</td>\n",
       "      <td>239432</td>\n",
       "    </tr>\n",
       "    <tr>\n",
       "      <td>2</td>\n",
       "      <td>Drama</td>\n",
       "      <td>147576</td>\n",
       "    </tr>\n",
       "    <tr>\n",
       "      <td>3</td>\n",
       "      <td>Thriller</td>\n",
       "      <td>116950</td>\n",
       "    </tr>\n",
       "    <tr>\n",
       "      <td>4</td>\n",
       "      <td>Comedy</td>\n",
       "      <td>94973</td>\n",
       "    </tr>\n",
       "  </tbody>\n",
       "</table>\n",
       "</div>"
      ],
      "text/plain": [
       "  program_genre   count\n",
       "0        Horror  240099\n",
       "1        Action  239432\n",
       "2         Drama  147576\n",
       "3      Thriller  116950\n",
       "4        Comedy   94973"
      ]
     },
     "execution_count": 96,
     "metadata": {},
     "output_type": "execute_result"
    }
   ],
   "source": [
    "#Genres\n",
    "\n",
    "genres3 = pd.DataFrame(cluster3.program_genre.value_counts()).reset_index()\n",
    "genres3.columns = ['program_genre', 'count']\n",
    "genres3 = genres3.sort_values(['count'], ascending=False)\n",
    "\n",
    "genres3.head()"
   ]
  },
  {
   "cell_type": "code",
   "execution_count": 98,
   "metadata": {},
   "outputs": [
    {
     "data": {
      "text/plain": [
       "Text(0.5, 1.0, 'Cluster 3: Most Watched Genres By users')"
      ]
     },
     "execution_count": 98,
     "metadata": {},
     "output_type": "execute_result"
    },
    {
     "data": {
      "image/png": "[encoded data removed]",
      "text/plain": [
       "<Figure size 1728x720 with 1 Axes>"
      ]
     },
     "metadata": {
      "needs_background": "light"
     },
     "output_type": "display_data"
    }
   ],
   "source": [
    "plt.figure(figsize=(24, 10))\n",
    "ax = sns.barplot(x = 'program_genre', y = 'count',\n",
    "            data = genres3)\n",
    "ax.set(xlabel='Program Genres', ylabel='Counts')\n",
    "plt.title('Cluster 3: Most Watched Genres By users')"
   ]
  },
  {
   "cell_type": "code",
   "execution_count": 99,
   "metadata": {},
   "outputs": [
    {
     "data": {
      "text/html": [
       "<div>\n",
       "<style scoped>\n",
       "    .dataframe tbody tr th:only-of-type {\n",
       "        vertical-align: middle;\n",
       "    }\n",
       "\n",
       "    .dataframe tbody tr th {\n",
       "        vertical-align: top;\n",
       "    }\n",
       "\n",
       "    .dataframe thead th {\n",
       "        text-align: right;\n",
       "    }\n",
       "</style>\n",
       "<table border=\"1\" class=\"dataframe\">\n",
       "  <thead>\n",
       "    <tr style=\"text-align: right;\">\n",
       "      <th></th>\n",
       "      <th>content_rating</th>\n",
       "      <th>count</th>\n",
       "    </tr>\n",
       "  </thead>\n",
       "  <tbody>\n",
       "    <tr>\n",
       "      <td>0</td>\n",
       "      <td>R</td>\n",
       "      <td>701317</td>\n",
       "    </tr>\n",
       "    <tr>\n",
       "      <td>1</td>\n",
       "      <td>TV-MA</td>\n",
       "      <td>160376</td>\n",
       "    </tr>\n",
       "    <tr>\n",
       "      <td>2</td>\n",
       "      <td>Not Rated</td>\n",
       "      <td>0</td>\n",
       "    </tr>\n",
       "    <tr>\n",
       "      <td>3</td>\n",
       "      <td>TV-Y7</td>\n",
       "      <td>0</td>\n",
       "    </tr>\n",
       "    <tr>\n",
       "      <td>4</td>\n",
       "      <td>TV-Y</td>\n",
       "      <td>0</td>\n",
       "    </tr>\n",
       "  </tbody>\n",
       "</table>\n",
       "</div>"
      ],
      "text/plain": [
       "  content_rating   count\n",
       "0              R  701317\n",
       "1          TV-MA  160376\n",
       "2      Not Rated       0\n",
       "3          TV-Y7       0\n",
       "4           TV-Y       0"
      ]
     },
     "execution_count": 99,
     "metadata": {},
     "output_type": "execute_result"
    }
   ],
   "source": [
    "#Content Rating\n",
    "\n",
    "content_rating_df = pd.DataFrame(cluster3.content_rating.value_counts()).reset_index()\n",
    "content_rating_df.columns = ['content_rating', 'count']\n",
    "content_rating_df = content_rating_df.sort_values(['count'], ascending=False)\n",
    "\n",
    "content_rating_df.head()"
   ]
  },
  {
   "cell_type": "code",
   "execution_count": 100,
   "metadata": {},
   "outputs": [
    {
     "data": {
      "text/plain": [
       "Text(0.5, 1.0, 'Cluster 3: Programs Rating')"
      ]
     },
     "execution_count": 100,
     "metadata": {},
     "output_type": "execute_result"
    },
    {
     "data": {
      "image/png": "[encoded data removed]",
      "text/plain": [
       "<Figure size 1728x720 with 1 Axes>"
      ]
     },
     "metadata": {
      "needs_background": "light"
     },
     "output_type": "display_data"
    }
   ],
   "source": [
    "plt.figure(figsize=(24, 10))\n",
    "ax = sns.barplot(x = 'content_rating', y = 'count',\n",
    "            data = content_rating_df)\n",
    "ax.set(xlabel='Program Genres', ylabel='Counts')\n",
    "plt.title('Cluster 3: Programs Rating')"
   ]
  },
  {
   "cell_type": "code",
   "execution_count": 128,
   "metadata": {},
   "outputs": [
    {
     "data": {
      "text/plain": [
       "Text(0.5, 1.0, 'Cluster 3: Programs Classes')"
      ]
     },
     "execution_count": 128,
     "metadata": {},
     "output_type": "execute_result"
    },
    {
     "data": {
      "image/png": "[encoded data removed]",
      "text/plain": [
       "<Figure size 1728x720 with 1 Axes>"
      ]
     },
     "metadata": {
      "needs_background": "light"
     },
     "output_type": "display_data"
    }
   ],
   "source": [
    "#Movies VS Series\n",
    "\n",
    "movies_df = pd.DataFrame(cluster3.program_class.value_counts()).reset_index()\n",
    "movies_df.columns = ['program_class', 'count']\n",
    "movies_df = movies_df.sort_values(['count'], ascending=False)\n",
    "\n",
    "plt.figure(figsize=(24, 10))\n",
    "ax = sns.barplot(x = 'program_class', y = 'count',\n",
    "            data = movies_df)\n",
    "ax.set(xlabel='Program Classes', ylabel='Counts')\n",
    "plt.title('Cluster 3: Programs Classes')"
   ]
  },
  {
   "cell_type": "code",
   "execution_count": null,
   "metadata": {},
   "outputs": [],
   "source": []
  },
  {
   "cell_type": "code",
   "execution_count": 107,
   "metadata": {},
   "outputs": [
    {
     "data": {
      "text/plain": [
       "0    714\n",
       "2    462\n",
       "1     77\n",
       "Name: Cluster, dtype: int64"
      ]
     },
     "execution_count": 107,
     "metadata": {},
     "output_type": "execute_result"
    }
   ],
   "source": [
    "# Test Profiling for each user\n",
    "\n",
    "new_df.loc[new_df['user_id_maped'] == 116, \"Cluster\"].value_counts()"
   ]
  },
  {
   "cell_type": "code",
   "execution_count": 108,
   "metadata": {},
   "outputs": [
    {
     "data": {
      "text/plain": [
       "1    301\n",
       "0    203\n",
       "2     34\n",
       "Name: Cluster, dtype: int64"
      ]
     },
     "execution_count": 108,
     "metadata": {},
     "output_type": "execute_result"
    }
   ],
   "source": [
    "new_df.loc[new_df['user_id_maped'] == 11663, \"Cluster\"].value_counts()"
   ]
  },
  {
   "cell_type": "code",
   "execution_count": 109,
   "metadata": {},
   "outputs": [
    {
     "data": {
      "text/plain": [
       "0    720\n",
       "2    622\n",
       "1     56\n",
       "Name: Cluster, dtype: int64"
      ]
     },
     "execution_count": 109,
     "metadata": {},
     "output_type": "execute_result"
    }
   ],
   "source": [
    "new_df.loc[new_df['user_id_maped'] == 16648, \"Cluster\"].value_counts()"
   ]
  },
  {
   "cell_type": "code",
   "execution_count": 110,
   "metadata": {},
   "outputs": [
    {
     "data": {
      "text/plain": [
       "Series([], Name: Cluster, dtype: int64)"
      ]
     },
     "execution_count": 110,
     "metadata": {},
     "output_type": "execute_result"
    }
   ],
   "source": [
    "new_df.loc[new_df['user_id_maped'] == 25401, \"Cluster\"].value_counts()"
   ]
  },
  {
   "cell_type": "code",
   "execution_count": 133,
   "metadata": {},
   "outputs": [
    {
     "data": {
      "text/plain": [
       "Series([], Name: Cluster, dtype: int64)"
      ]
     },
     "execution_count": 133,
     "metadata": {},
     "output_type": "execute_result"
    }
   ],
   "source": [
    "new_df.loc[new_df['user_id_maped'] == 25401, \"Cluster\"].value_counts()\n",
    "\n",
    "#seems like this user ID is not available in our data"
   ]
  },
  {
   "cell_type": "code",
   "execution_count": 111,
   "metadata": {},
   "outputs": [
    {
     "data": {
      "text/plain": [
       "1    795\n",
       "0    367\n",
       "2    144\n",
       "Name: Cluster, dtype: int64"
      ]
     },
     "execution_count": 111,
     "metadata": {},
     "output_type": "execute_result"
    }
   ],
   "source": [
    "new_df.loc[new_df['user_id_maped'] == 25713, \"Cluster\"].value_counts()"
   ]
  },
  {
   "cell_type": "code",
   "execution_count": 112,
   "metadata": {},
   "outputs": [
    {
     "data": {
      "text/plain": [
       "2    1232\n",
       "0    1149\n",
       "1     540\n",
       "Name: Cluster, dtype: int64"
      ]
     },
     "execution_count": 112,
     "metadata": {},
     "output_type": "execute_result"
    }
   ],
   "source": [
    "new_df.loc[new_df['user_id_maped'] == 26782, \"Cluster\"].value_counts()"
   ]
  },
  {
   "cell_type": "code",
   "execution_count": 113,
   "metadata": {},
   "outputs": [
    {
     "data": {
      "text/plain": [
       "2    455\n",
       "0    386\n",
       "1    289\n",
       "Name: Cluster, dtype: int64"
      ]
     },
     "execution_count": 113,
     "metadata": {},
     "output_type": "execute_result"
    }
   ],
   "source": [
    "new_df.loc[new_df['user_id_maped'] == 27085, \"Cluster\"].value_counts()"
   ]
  },
  {
   "cell_type": "code",
   "execution_count": 114,
   "metadata": {},
   "outputs": [
    {
     "data": {
      "text/plain": [
       "1    815\n",
       "0    232\n",
       "2    174\n",
       "Name: Cluster, dtype: int64"
      ]
     },
     "execution_count": 114,
     "metadata": {},
     "output_type": "execute_result"
    }
   ],
   "source": [
    "new_df.loc[new_df['user_id_maped'] == 30336, \"Cluster\"].value_counts()"
   ]
  },
  {
   "cell_type": "code",
   "execution_count": 117,
   "metadata": {},
   "outputs": [
    {
     "data": {
      "text/plain": [
       "2    2200\n",
       "0     993\n",
       "1     971\n",
       "Name: Cluster, dtype: int64"
      ]
     },
     "execution_count": 117,
     "metadata": {},
     "output_type": "execute_result"
    }
   ],
   "source": [
    "new_df.loc[new_df['user_id_maped'] == 32108, \"Cluster\"].value_counts()"
   ]
  },
  {
   "cell_type": "code",
   "execution_count": 130,
   "metadata": {},
   "outputs": [
    {
     "data": {
      "text/plain": [
       "1    815\n",
       "0    232\n",
       "2    174\n",
       "Name: Cluster, dtype: int64"
      ]
     },
     "execution_count": 130,
     "metadata": {},
     "output_type": "execute_result"
    }
   ],
   "source": [
    "new_df.loc[new_df['user_id_maped'] == 30336, \"Cluster\"].value_counts()"
   ]
  },
  {
   "cell_type": "markdown",
   "metadata": {},
   "source": [
    "## seems that most users have multiple users. Like for one family and shared between family members. Cluster  1 encoded as 0 users more closer to teens to young Adults. cluster 2 encoded as 1 users are closer to Kids. Cluster 3 encoded as 2 users are more likely young adults to adults."
   ]
  },
  {
   "cell_type": "code",
   "execution_count": null,
   "metadata": {},
   "outputs": [],
   "source": []
  }
 ],
 "metadata": {
  "kernelspec": {
   "display_name": "Python 3",
   "language": "python",
   "name": "python3"
  },
  "language_info": {
   "codemirror_mode": {
    "name": "ipython",
    "version": 3
   },
   "file_extension": ".py",
   "mimetype": "text/x-python",
   "name": "python",
   "nbconvert_exporter": "python",
   "pygments_lexer": "ipython3",
   "version": "3.7.4"
  }
 },
 "nbformat": 4,
 "nbformat_minor": 2
}
